{
 "cells": [
  {
   "cell_type": "markdown",
   "id": "8ea2660a",
   "metadata": {},
   "source": [
    "# Kütüphaneleri import etme"
   ]
  },
  {
   "cell_type": "code",
   "execution_count": 119,
   "id": "9035611c",
   "metadata": {},
   "outputs": [],
   "source": [
    "import pandas as pd\n",
    "import numpy as np\n",
    "from datetime import datetime\n",
    "import matplotlib.pyplot as plt"
   ]
  },
  {
   "cell_type": "markdown",
   "id": "b361274a",
   "metadata": {},
   "source": [
    "# her magazanın toplam satıs degerlendirmesi "
   ]
  },
  {
   "cell_type": "code",
   "execution_count": 120,
   "id": "7eab2797",
   "metadata": {},
   "outputs": [],
   "source": [
    "store_data = pd.read_csv('store_view.csv')"
   ]
  },
  {
   "cell_type": "code",
   "execution_count": 121,
   "id": "d891aa01",
   "metadata": {},
   "outputs": [
    {
     "data": {
      "text/html": [
       "<div>\n",
       "<style scoped>\n",
       "    .dataframe tbody tr th:only-of-type {\n",
       "        vertical-align: middle;\n",
       "    }\n",
       "\n",
       "    .dataframe tbody tr th {\n",
       "        vertical-align: top;\n",
       "    }\n",
       "\n",
       "    .dataframe thead th {\n",
       "        text-align: right;\n",
       "    }\n",
       "</style>\n",
       "<table border=\"1\" class=\"dataframe\">\n",
       "  <thead>\n",
       "    <tr style=\"text-align: right;\">\n",
       "      <th></th>\n",
       "      <th>store</th>\n",
       "      <th>ürün_sayısı</th>\n",
       "      <th>toplam_ürün</th>\n",
       "      <th>ortalama_satıs</th>\n",
       "      <th>toplam_satıs</th>\n",
       "    </tr>\n",
       "  </thead>\n",
       "  <tbody>\n",
       "    <tr>\n",
       "      <th>0</th>\n",
       "      <td>1</td>\n",
       "      <td>91300</td>\n",
       "      <td>2328150</td>\n",
       "      <td>47.268379</td>\n",
       "      <td>4315603</td>\n",
       "    </tr>\n",
       "    <tr>\n",
       "      <th>1</th>\n",
       "      <td>2</td>\n",
       "      <td>91300</td>\n",
       "      <td>2328150</td>\n",
       "      <td>67.033165</td>\n",
       "      <td>6120128</td>\n",
       "    </tr>\n",
       "    <tr>\n",
       "      <th>2</th>\n",
       "      <td>3</td>\n",
       "      <td>91300</td>\n",
       "      <td>2328150</td>\n",
       "      <td>59.530602</td>\n",
       "      <td>5435144</td>\n",
       "    </tr>\n",
       "    <tr>\n",
       "      <th>3</th>\n",
       "      <td>4</td>\n",
       "      <td>91300</td>\n",
       "      <td>2328150</td>\n",
       "      <td>54.902946</td>\n",
       "      <td>5012639</td>\n",
       "    </tr>\n",
       "    <tr>\n",
       "      <th>4</th>\n",
       "      <td>5</td>\n",
       "      <td>91300</td>\n",
       "      <td>2328150</td>\n",
       "      <td>39.770164</td>\n",
       "      <td>3631016</td>\n",
       "    </tr>\n",
       "  </tbody>\n",
       "</table>\n",
       "</div>"
      ],
      "text/plain": [
       "   store  ürün_sayısı  toplam_ürün  ortalama_satıs  toplam_satıs\n",
       "0      1        91300      2328150       47.268379       4315603\n",
       "1      2        91300      2328150       67.033165       6120128\n",
       "2      3        91300      2328150       59.530602       5435144\n",
       "3      4        91300      2328150       54.902946       5012639\n",
       "4      5        91300      2328150       39.770164       3631016"
      ]
     },
     "execution_count": 121,
     "metadata": {},
     "output_type": "execute_result"
    }
   ],
   "source": [
    "store_data.head()"
   ]
  },
  {
   "cell_type": "code",
   "execution_count": 122,
   "id": "f942a16e",
   "metadata": {},
   "outputs": [
    {
     "data": {
      "text/html": [
       "<div>\n",
       "<style scoped>\n",
       "    .dataframe tbody tr th:only-of-type {\n",
       "        vertical-align: middle;\n",
       "    }\n",
       "\n",
       "    .dataframe tbody tr th {\n",
       "        vertical-align: top;\n",
       "    }\n",
       "\n",
       "    .dataframe thead th {\n",
       "        text-align: right;\n",
       "    }\n",
       "</style>\n",
       "<table border=\"1\" class=\"dataframe\">\n",
       "  <thead>\n",
       "    <tr style=\"text-align: right;\">\n",
       "      <th></th>\n",
       "      <th>store</th>\n",
       "      <th>ortalama_satıs</th>\n",
       "      <th>toplam_satıs</th>\n",
       "    </tr>\n",
       "  </thead>\n",
       "  <tbody>\n",
       "    <tr>\n",
       "      <th>0</th>\n",
       "      <td>1</td>\n",
       "      <td>47.268379</td>\n",
       "      <td>4315603</td>\n",
       "    </tr>\n",
       "    <tr>\n",
       "      <th>1</th>\n",
       "      <td>2</td>\n",
       "      <td>67.033165</td>\n",
       "      <td>6120128</td>\n",
       "    </tr>\n",
       "    <tr>\n",
       "      <th>2</th>\n",
       "      <td>3</td>\n",
       "      <td>59.530602</td>\n",
       "      <td>5435144</td>\n",
       "    </tr>\n",
       "    <tr>\n",
       "      <th>3</th>\n",
       "      <td>4</td>\n",
       "      <td>54.902946</td>\n",
       "      <td>5012639</td>\n",
       "    </tr>\n",
       "    <tr>\n",
       "      <th>4</th>\n",
       "      <td>5</td>\n",
       "      <td>39.770164</td>\n",
       "      <td>3631016</td>\n",
       "    </tr>\n",
       "    <tr>\n",
       "      <th>5</th>\n",
       "      <td>6</td>\n",
       "      <td>39.733516</td>\n",
       "      <td>3627670</td>\n",
       "    </tr>\n",
       "    <tr>\n",
       "      <th>6</th>\n",
       "      <td>7</td>\n",
       "      <td>36.363735</td>\n",
       "      <td>3320009</td>\n",
       "    </tr>\n",
       "    <tr>\n",
       "      <th>7</th>\n",
       "      <td>8</td>\n",
       "      <td>64.142048</td>\n",
       "      <td>5856169</td>\n",
       "    </tr>\n",
       "    <tr>\n",
       "      <th>8</th>\n",
       "      <td>9</td>\n",
       "      <td>55.049025</td>\n",
       "      <td>5025976</td>\n",
       "    </tr>\n",
       "    <tr>\n",
       "      <th>9</th>\n",
       "      <td>10</td>\n",
       "      <td>58.709288</td>\n",
       "      <td>5360158</td>\n",
       "    </tr>\n",
       "  </tbody>\n",
       "</table>\n",
       "</div>"
      ],
      "text/plain": [
       "   store  ortalama_satıs  toplam_satıs\n",
       "0      1       47.268379       4315603\n",
       "1      2       67.033165       6120128\n",
       "2      3       59.530602       5435144\n",
       "3      4       54.902946       5012639\n",
       "4      5       39.770164       3631016\n",
       "5      6       39.733516       3627670\n",
       "6      7       36.363735       3320009\n",
       "7      8       64.142048       5856169\n",
       "8      9       55.049025       5025976\n",
       "9     10       58.709288       5360158"
      ]
     },
     "execution_count": 122,
     "metadata": {},
     "output_type": "execute_result"
    }
   ],
   "source": [
    "store_data.drop(['ürün_sayısı','toplam_ürün'],axis=1)"
   ]
  },
  {
   "cell_type": "code",
   "execution_count": 142,
   "id": "2175bdfd",
   "metadata": {},
   "outputs": [
    {
     "data": {
      "text/plain": [
       "[<matplotlib.lines.Line2D at 0x7f76d5ba2a30>]"
      ]
     },
     "execution_count": 142,
     "metadata": {},
     "output_type": "execute_result"
    },
    {
     "data": {
      "image/png": "[encoded data removed]",
      "text/plain": [
       "<Figure size 432x288 with 1 Axes>"
      ]
     },
     "metadata": {
      "needs_background": "light"
     },
     "output_type": "display_data"
    }
   ],
   "source": [
    "plt.plot(store_data['store'],store_data['ortalama_satıs'])"
   ]
  },
  {
   "cell_type": "markdown",
   "id": "05c78f7f",
   "metadata": {},
   "source": [
    "# 2013 yılına ait satış zaman grafiği"
   ]
  },
  {
   "cell_type": "code",
   "execution_count": 124,
   "id": "389ece99",
   "metadata": {},
   "outputs": [],
   "source": [
    "date_parser = pd.to_datetime\n",
    "sales_2013 = pd.read_csv(\"sales_2013_view.csv\",date_parser=date_parser,infer_datetime_format=True)"
   ]
  },
  {
   "cell_type": "code",
   "execution_count": 125,
   "id": "88a5690f",
   "metadata": {},
   "outputs": [
    {
     "data": {
      "text/html": [
       "<div>\n",
       "<style scoped>\n",
       "    .dataframe tbody tr th:only-of-type {\n",
       "        vertical-align: middle;\n",
       "    }\n",
       "\n",
       "    .dataframe tbody tr th {\n",
       "        vertical-align: top;\n",
       "    }\n",
       "\n",
       "    .dataframe thead th {\n",
       "        text-align: right;\n",
       "    }\n",
       "</style>\n",
       "<table border=\"1\" class=\"dataframe\">\n",
       "  <thead>\n",
       "    <tr style=\"text-align: right;\">\n",
       "      <th></th>\n",
       "      <th>date</th>\n",
       "      <th>ürün_sayısı</th>\n",
       "      <th>toplam_ürün</th>\n",
       "      <th>ortalama_satıs</th>\n",
       "      <th>toplam_satıs</th>\n",
       "    </tr>\n",
       "  </thead>\n",
       "  <tbody>\n",
       "    <tr>\n",
       "      <th>0</th>\n",
       "      <td>2013-01-02</td>\n",
       "      <td>500</td>\n",
       "      <td>12750</td>\n",
       "      <td>27.356</td>\n",
       "      <td>13678</td>\n",
       "    </tr>\n",
       "    <tr>\n",
       "      <th>1</th>\n",
       "      <td>2013-01-03</td>\n",
       "      <td>500</td>\n",
       "      <td>12750</td>\n",
       "      <td>28.976</td>\n",
       "      <td>14488</td>\n",
       "    </tr>\n",
       "    <tr>\n",
       "      <th>2</th>\n",
       "      <td>2013-01-04</td>\n",
       "      <td>500</td>\n",
       "      <td>12750</td>\n",
       "      <td>31.354</td>\n",
       "      <td>15677</td>\n",
       "    </tr>\n",
       "    <tr>\n",
       "      <th>3</th>\n",
       "      <td>2013-01-05</td>\n",
       "      <td>500</td>\n",
       "      <td>12750</td>\n",
       "      <td>32.474</td>\n",
       "      <td>16237</td>\n",
       "    </tr>\n",
       "    <tr>\n",
       "      <th>4</th>\n",
       "      <td>2013-01-06</td>\n",
       "      <td>500</td>\n",
       "      <td>12750</td>\n",
       "      <td>34.582</td>\n",
       "      <td>17291</td>\n",
       "    </tr>\n",
       "  </tbody>\n",
       "</table>\n",
       "</div>"
      ],
      "text/plain": [
       "         date  ürün_sayısı  toplam_ürün  ortalama_satıs  toplam_satıs\n",
       "0  2013-01-02          500        12750          27.356         13678\n",
       "1  2013-01-03          500        12750          28.976         14488\n",
       "2  2013-01-04          500        12750          31.354         15677\n",
       "3  2013-01-05          500        12750          32.474         16237\n",
       "4  2013-01-06          500        12750          34.582         17291"
      ]
     },
     "execution_count": 125,
     "metadata": {},
     "output_type": "execute_result"
    }
   ],
   "source": [
    "sales_2013.head()"
   ]
  },
  {
   "cell_type": "code",
   "execution_count": 126,
   "id": "f37825e0",
   "metadata": {},
   "outputs": [
    {
     "name": "stdout",
     "output_type": "stream",
     "text": [
      "<class 'pandas.core.frame.DataFrame'>\n",
      "RangeIndex: 363 entries, 0 to 362\n",
      "Data columns (total 5 columns):\n",
      " #   Column          Non-Null Count  Dtype  \n",
      "---  ------          --------------  -----  \n",
      " 0   date            363 non-null    object \n",
      " 1   ürün_sayısı     363 non-null    int64  \n",
      " 2   toplam_ürün     363 non-null    int64  \n",
      " 3   ortalama_satıs  363 non-null    float64\n",
      " 4   toplam_satıs    363 non-null    int64  \n",
      "dtypes: float64(1), int64(3), object(1)\n",
      "memory usage: 14.3+ KB\n"
     ]
    }
   ],
   "source": [
    "sales_2013.info()"
   ]
  },
  {
   "cell_type": "code",
   "execution_count": 127,
   "id": "b1a84f07",
   "metadata": {},
   "outputs": [],
   "source": [
    "sales_2013=sales_2013.drop(['ürün_sayısı','toplam_ürün'],axis=1)"
   ]
  },
  {
   "cell_type": "code",
   "execution_count": 128,
   "id": "f546f962",
   "metadata": {},
   "outputs": [
    {
     "data": {
      "text/html": [
       "<div>\n",
       "<style scoped>\n",
       "    .dataframe tbody tr th:only-of-type {\n",
       "        vertical-align: middle;\n",
       "    }\n",
       "\n",
       "    .dataframe tbody tr th {\n",
       "        vertical-align: top;\n",
       "    }\n",
       "\n",
       "    .dataframe thead th {\n",
       "        text-align: right;\n",
       "    }\n",
       "</style>\n",
       "<table border=\"1\" class=\"dataframe\">\n",
       "  <thead>\n",
       "    <tr style=\"text-align: right;\">\n",
       "      <th></th>\n",
       "      <th>date</th>\n",
       "      <th>ortalama_satıs</th>\n",
       "      <th>toplam_satıs</th>\n",
       "    </tr>\n",
       "  </thead>\n",
       "  <tbody>\n",
       "    <tr>\n",
       "      <th>0</th>\n",
       "      <td>2013-01-02</td>\n",
       "      <td>27.356</td>\n",
       "      <td>13678</td>\n",
       "    </tr>\n",
       "    <tr>\n",
       "      <th>1</th>\n",
       "      <td>2013-01-03</td>\n",
       "      <td>28.976</td>\n",
       "      <td>14488</td>\n",
       "    </tr>\n",
       "    <tr>\n",
       "      <th>2</th>\n",
       "      <td>2013-01-04</td>\n",
       "      <td>31.354</td>\n",
       "      <td>15677</td>\n",
       "    </tr>\n",
       "    <tr>\n",
       "      <th>3</th>\n",
       "      <td>2013-01-05</td>\n",
       "      <td>32.474</td>\n",
       "      <td>16237</td>\n",
       "    </tr>\n",
       "    <tr>\n",
       "      <th>4</th>\n",
       "      <td>2013-01-06</td>\n",
       "      <td>34.582</td>\n",
       "      <td>17291</td>\n",
       "    </tr>\n",
       "  </tbody>\n",
       "</table>\n",
       "</div>"
      ],
      "text/plain": [
       "         date  ortalama_satıs  toplam_satıs\n",
       "0  2013-01-02          27.356         13678\n",
       "1  2013-01-03          28.976         14488\n",
       "2  2013-01-04          31.354         15677\n",
       "3  2013-01-05          32.474         16237\n",
       "4  2013-01-06          34.582         17291"
      ]
     },
     "execution_count": 128,
     "metadata": {},
     "output_type": "execute_result"
    }
   ],
   "source": [
    "sales_2013.head()"
   ]
  },
  {
   "cell_type": "code",
   "execution_count": 135,
   "id": "e2b4fd34",
   "metadata": {},
   "outputs": [
    {
     "data": {
      "text/plain": [
       "[<matplotlib.lines.Line2D at 0x7f76d70bf580>]"
      ]
     },
     "execution_count": 135,
     "metadata": {},
     "output_type": "execute_result"
    },
    {
     "data": {
      "image/png": "[encoded data removed]",
      "text/plain": [
       "<Figure size 432x288 with 1 Axes>"
      ]
     },
     "metadata": {
      "needs_background": "light"
     },
     "output_type": "display_data"
    }
   ],
   "source": [
    "\n",
    "date = sales_2013['date']\n",
    "date_time_2013 = list(map(lambda date: datetime(int(date.split('-')[0]), int(date.split('-')[1]), int(date.split('-')[2])), date))\n",
    "sales_list_2013 = sales_2013['ortalama_satıs']\n",
    "# tüm marketlerin toplam stoğu şeklinde\n",
    "plt.plot(date_time_list_2013,sales_list_2013)"
   ]
  },
  {
   "cell_type": "markdown",
   "id": "f687ecb7",
   "metadata": {},
   "source": [
    "# 2014 senesine ait stok analizi"
   ]
  },
  {
   "cell_type": "code",
   "execution_count": 136,
   "id": "613e7aa5",
   "metadata": {},
   "outputs": [],
   "source": [
    "date_parser = pd.to_datetime\n",
    "sales_2014 = pd.read_csv(\"sales_2014_view.csv\",date_parser=date_parser,infer_datetime_format=True)"
   ]
  },
  {
   "cell_type": "code",
   "execution_count": 137,
   "id": "5749d14b",
   "metadata": {},
   "outputs": [],
   "source": [
    "sales_2014=sales_2014.drop(['ürün_sayısı','toplam_ürün'],axis=1)"
   ]
  },
  {
   "cell_type": "code",
   "execution_count": 138,
   "id": "651df71c",
   "metadata": {},
   "outputs": [
    {
     "data": {
      "text/html": [
       "<div>\n",
       "<style scoped>\n",
       "    .dataframe tbody tr th:only-of-type {\n",
       "        vertical-align: middle;\n",
       "    }\n",
       "\n",
       "    .dataframe tbody tr th {\n",
       "        vertical-align: top;\n",
       "    }\n",
       "\n",
       "    .dataframe thead th {\n",
       "        text-align: right;\n",
       "    }\n",
       "</style>\n",
       "<table border=\"1\" class=\"dataframe\">\n",
       "  <thead>\n",
       "    <tr style=\"text-align: right;\">\n",
       "      <th></th>\n",
       "      <th>date</th>\n",
       "      <th>ortalama_satıs</th>\n",
       "      <th>toplam_satıs</th>\n",
       "    </tr>\n",
       "  </thead>\n",
       "  <tbody>\n",
       "    <tr>\n",
       "      <th>0</th>\n",
       "      <td>2014-01-02</td>\n",
       "      <td>34.066</td>\n",
       "      <td>17033</td>\n",
       "    </tr>\n",
       "    <tr>\n",
       "      <th>1</th>\n",
       "      <td>2014-01-03</td>\n",
       "      <td>35.492</td>\n",
       "      <td>17746</td>\n",
       "    </tr>\n",
       "    <tr>\n",
       "      <th>2</th>\n",
       "      <td>2014-01-04</td>\n",
       "      <td>38.368</td>\n",
       "      <td>19184</td>\n",
       "    </tr>\n",
       "    <tr>\n",
       "      <th>3</th>\n",
       "      <td>2014-01-05</td>\n",
       "      <td>40.364</td>\n",
       "      <td>20182</td>\n",
       "    </tr>\n",
       "    <tr>\n",
       "      <th>4</th>\n",
       "      <td>2014-01-06</td>\n",
       "      <td>26.876</td>\n",
       "      <td>13438</td>\n",
       "    </tr>\n",
       "  </tbody>\n",
       "</table>\n",
       "</div>"
      ],
      "text/plain": [
       "         date  ortalama_satıs  toplam_satıs\n",
       "0  2014-01-02          34.066         17033\n",
       "1  2014-01-03          35.492         17746\n",
       "2  2014-01-04          38.368         19184\n",
       "3  2014-01-05          40.364         20182\n",
       "4  2014-01-06          26.876         13438"
      ]
     },
     "execution_count": 138,
     "metadata": {},
     "output_type": "execute_result"
    }
   ],
   "source": [
    "sales_2014.head()"
   ]
  },
  {
   "cell_type": "code",
   "execution_count": 1,
   "id": "1c519b80",
   "metadata": {},
   "outputs": [
    {
     "ename": "NameError",
     "evalue": "name 'sales_2014' is not defined",
     "output_type": "error",
     "traceback": [
      "\u001b[1;31m---------------------------------------------------------------------------\u001b[0m",
      "\u001b[1;31mNameError\u001b[0m                                 Traceback (most recent call last)",
      "\u001b[1;32m~\\AppData\\Local\\Temp/ipykernel_13764/673453658.py\u001b[0m in \u001b[0;36m<module>\u001b[1;34m\u001b[0m\n\u001b[1;32m----> 1\u001b[1;33m \u001b[0mdate\u001b[0m \u001b[1;33m=\u001b[0m \u001b[0msales_2014\u001b[0m\u001b[1;33m[\u001b[0m\u001b[1;34m'date'\u001b[0m\u001b[1;33m]\u001b[0m\u001b[1;33m\u001b[0m\u001b[1;33m\u001b[0m\u001b[0m\n\u001b[0m\u001b[0;32m      2\u001b[0m \u001b[0mdate_time_2014\u001b[0m \u001b[1;33m=\u001b[0m \u001b[0mlist\u001b[0m\u001b[1;33m(\u001b[0m\u001b[0mmap\u001b[0m\u001b[1;33m(\u001b[0m\u001b[1;32mlambda\u001b[0m \u001b[0mdate\u001b[0m\u001b[1;33m:\u001b[0m \u001b[0mdatetime\u001b[0m\u001b[1;33m(\u001b[0m\u001b[0mint\u001b[0m\u001b[1;33m(\u001b[0m\u001b[0mdate\u001b[0m\u001b[1;33m.\u001b[0m\u001b[0msplit\u001b[0m\u001b[1;33m(\u001b[0m\u001b[1;34m'-'\u001b[0m\u001b[1;33m)\u001b[0m\u001b[1;33m[\u001b[0m\u001b[1;36m0\u001b[0m\u001b[1;33m]\u001b[0m\u001b[1;33m)\u001b[0m\u001b[1;33m,\u001b[0m \u001b[0mint\u001b[0m\u001b[1;33m(\u001b[0m\u001b[0mdate\u001b[0m\u001b[1;33m.\u001b[0m\u001b[0msplit\u001b[0m\u001b[1;33m(\u001b[0m\u001b[1;34m'-'\u001b[0m\u001b[1;33m)\u001b[0m\u001b[1;33m[\u001b[0m\u001b[1;36m1\u001b[0m\u001b[1;33m]\u001b[0m\u001b[1;33m)\u001b[0m\u001b[1;33m,\u001b[0m \u001b[0mint\u001b[0m\u001b[1;33m(\u001b[0m\u001b[0mdate\u001b[0m\u001b[1;33m.\u001b[0m\u001b[0msplit\u001b[0m\u001b[1;33m(\u001b[0m\u001b[1;34m'-'\u001b[0m\u001b[1;33m)\u001b[0m\u001b[1;33m[\u001b[0m\u001b[1;36m2\u001b[0m\u001b[1;33m]\u001b[0m\u001b[1;33m)\u001b[0m\u001b[1;33m)\u001b[0m\u001b[1;33m,\u001b[0m \u001b[0mdate\u001b[0m\u001b[1;33m)\u001b[0m\u001b[1;33m)\u001b[0m\u001b[1;33m\u001b[0m\u001b[1;33m\u001b[0m\u001b[0m\n\u001b[0;32m      3\u001b[0m \u001b[0msales_list_2014\u001b[0m \u001b[1;33m=\u001b[0m \u001b[0msales_2014\u001b[0m\u001b[1;33m[\u001b[0m\u001b[1;34m'ortalama_satıs'\u001b[0m\u001b[1;33m]\u001b[0m\u001b[1;33m\u001b[0m\u001b[1;33m\u001b[0m\u001b[0m\n\u001b[0;32m      4\u001b[0m \u001b[1;31m# tüm marketlerin toplam stoğu şeklinde\u001b[0m\u001b[1;33m\u001b[0m\u001b[1;33m\u001b[0m\u001b[0m\n\u001b[0;32m      5\u001b[0m \u001b[0mplt\u001b[0m\u001b[1;33m.\u001b[0m\u001b[0mplot\u001b[0m\u001b[1;33m(\u001b[0m\u001b[0mdate_time_2014\u001b[0m\u001b[1;33m,\u001b[0m\u001b[0msales_list_2014\u001b[0m\u001b[1;33m)\u001b[0m\u001b[1;33m\u001b[0m\u001b[1;33m\u001b[0m\u001b[0m\n",
      "\u001b[1;31mNameError\u001b[0m: name 'sales_2014' is not defined"
     ]
    }
   ],
   "source": [
    "date = sales_2014['date']\n",
    "date_time_2014 = list(map(lambda date: datetime(int(date.split('-')[0]), int(date.split('-')[1]), int(date.split('-')[2])), date))\n",
    "sales_list_2014 = sales_2014['ortalama_satıs']\n",
    "# tüm marketlerin toplam stoğu şeklinde\n",
    "plt.plot(date_time_2014,sales_list_2014)"
   ]
  },
  {
   "cell_type": "code",
   "execution_count": 140,
   "id": "53762709",
   "metadata": {},
   "outputs": [
    {
     "data": {
      "text/plain": [
       "[<matplotlib.lines.Line2D at 0x7f76d6a05520>]"
      ]
     },
     "execution_count": 140,
     "metadata": {},
     "output_type": "execute_result"
    },
    {
     "data": {
      "image/png": "[encoded data removed]",
      "text/plain": [
       "<Figure size 432x288 with 2 Axes>"
      ]
     },
     "metadata": {
      "needs_background": "light"
     },
     "output_type": "display_data"
    }
   ],
   "source": [
    "fig, (ax1, ax2) = plt.subplots(2)\n",
    "fig.suptitle('Vertically stacked subplots')\n",
    "ax1.plot(date_time_2013, sales_list_2013)\n",
    "ax2.plot(date_time_2014, sales_list_2014)"
   ]
  },
  {
   "cell_type": "code",
   "execution_count": null,
   "id": "2fd559b7",
   "metadata": {},
   "outputs": [],
   "source": []
  },
  {
   "cell_type": "code",
   "execution_count": null,
   "id": "ebfc961f",
   "metadata": {},
   "outputs": [],
   "source": []
  },
  {
   "cell_type": "code",
   "execution_count": null,
   "id": "cb20fcc5",
   "metadata": {},
   "outputs": [],
   "source": []
  },
  {
   "cell_type": "code",
   "execution_count": null,
   "id": "8de80643",
   "metadata": {},
   "outputs": [],
   "source": []
  }
 ],
 "metadata": {
  "kernelspec": {
   "display_name": "Python 3 (ipykernel)",
   "language": "python",
   "name": "python3"
  },
  "language_info": {
   "codemirror_mode": {
    "name": "ipython",
    "version": 3
   },
   "file_extension": ".py",
   "mimetype": "text/x-python",
   "name": "python",
   "nbconvert_exporter": "python",
   "pygments_lexer": "ipython3",
   "version": "3.9.9"
  }
 },
 "nbformat": 4,
 "nbformat_minor": 5
}
